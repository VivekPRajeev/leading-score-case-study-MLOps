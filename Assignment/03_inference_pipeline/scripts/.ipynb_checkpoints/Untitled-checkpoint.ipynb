{
 "cells": [
  {
   "cell_type": "code",
   "execution_count": 1,
   "id": "31bab139-4a0c-4d63-8bec-9934f9a080e9",
   "metadata": {},
   "outputs": [],
   "source": [
    "from utils import *"
   ]
  },
  {
   "cell_type": "code",
   "execution_count": 2,
   "id": "8b7f3606-5feb-4448-8503-60a5089eda31",
   "metadata": {},
   "outputs": [],
   "source": [
    "encode_features()"
   ]
  },
  {
   "cell_type": "code",
   "execution_count": 3,
   "id": "5ef58f33-b2be-48f0-8046-cfbd43d92270",
   "metadata": {},
   "outputs": [
    {
     "name": "stdout",
     "output_type": "stream",
     "text": [
      "All the models input are present\n"
     ]
    }
   ],
   "source": [
    "input_features_check()"
   ]
  },
  {
   "cell_type": "code",
   "execution_count": 4,
   "id": "06cd8207-5e16-4cbe-a413-a695f9cd7b5a",
   "metadata": {},
   "outputs": [],
   "source": [
    "get_models_prediction()"
   ]
  },
  {
   "cell_type": "code",
   "execution_count": 6,
   "id": "f67f5de2-3d5e-4fe6-b091-e451f7ecd093",
   "metadata": {},
   "outputs": [],
   "source": [
    "prediction_ratio_check()"
   ]
  },
  {
   "cell_type": "code",
   "execution_count": null,
   "id": "5aa1bead-3d37-4971-bd60-65e4b2a6c5f7",
   "metadata": {},
   "outputs": [],
   "source": []
  }
 ],
 "metadata": {
  "kernelspec": {
   "display_name": "Python 3 (ipykernel)",
   "language": "python",
   "name": "python3"
  },
  "language_info": {
   "codemirror_mode": {
    "name": "ipython",
    "version": 3
   },
   "file_extension": ".py",
   "mimetype": "text/x-python",
   "name": "python",
   "nbconvert_exporter": "python",
   "pygments_lexer": "ipython3",
   "version": "3.8.12"
  }
 },
 "nbformat": 4,
 "nbformat_minor": 5
}
