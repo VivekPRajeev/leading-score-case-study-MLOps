{
 "cells": [
  {
   "cell_type": "code",
   "execution_count": 13,
   "id": "ecae6815-9f30-49fb-b333-67091a46eb5f",
   "metadata": {},
   "outputs": [],
   "source": [
    "from utils import *\n",
    "from data_validation_checks import *\n",
    "from test_with_pytest import *"
   ]
  },
  {
   "cell_type": "code",
   "execution_count": 14,
   "id": "b7c6ab40-8d00-4b57-96d2-664eb2ea48b9",
   "metadata": {},
   "outputs": [
    {
     "name": "stdout",
     "output_type": "stream",
     "text": [
      "./utils_output.db asd\n",
      "DB Already Exists\n"
     ]
    },
    {
     "data": {
      "text/plain": [
       "'DB Exists'"
      ]
     },
     "execution_count": 14,
     "metadata": {},
     "output_type": "execute_result"
    }
   ],
   "source": [
    "build_dbs()"
   ]
  },
  {
   "cell_type": "code",
   "execution_count": 15,
   "id": "0bdb5970-936b-432d-910c-13f5077f6f85",
   "metadata": {},
   "outputs": [],
   "source": [
    "load_data_into_db()"
   ]
  },
  {
   "cell_type": "code",
   "execution_count": 16,
   "id": "679926fd-a457-4760-af36-474b1680922a",
   "metadata": {},
   "outputs": [],
   "source": [
    "map_city_tier()"
   ]
  },
  {
   "cell_type": "code",
   "execution_count": 17,
   "id": "b9024d68-e93e-4c7a-9b8b-526ee951bbaf",
   "metadata": {},
   "outputs": [],
   "source": [
    "map_categorical_vars()"
   ]
  },
  {
   "cell_type": "code",
   "execution_count": 18,
   "id": "49f860bc-2c5d-447b-9b6b-00c16a652adc",
   "metadata": {},
   "outputs": [
    {
     "name": "stdout",
     "output_type": "stream",
     "text": [
      "saving into model_input\n"
     ]
    }
   ],
   "source": [
    "interactions_mapping()"
   ]
  },
  {
   "cell_type": "code",
   "execution_count": 19,
   "id": "1da12883-807b-4db0-b214-282668d0dd24",
   "metadata": {},
   "outputs": [],
   "source": [
    "test_load_data_into_db()"
   ]
  },
  {
   "cell_type": "code",
   "execution_count": 20,
   "id": "5d9bb464-6f9c-4962-8fb7-e578a3265eef",
   "metadata": {},
   "outputs": [],
   "source": [
    "test_map_categorical_vars()"
   ]
  },
  {
   "cell_type": "code",
   "execution_count": 21,
   "id": "8b17c3b7-ff59-4ce0-a6f4-2218bfe914fd",
   "metadata": {},
   "outputs": [
    {
     "data": {
      "text/plain": [
       "<function test_with_pytest.test_interactions_mapping()>"
      ]
     },
     "execution_count": 21,
     "metadata": {},
     "output_type": "execute_result"
    }
   ],
   "source": [
    "test_interactions_mapping"
   ]
  },
  {
   "cell_type": "code",
   "execution_count": 22,
   "id": "91524b09-b0f8-48da-82d6-293a532702b8",
   "metadata": {},
   "outputs": [
    {
     "name": "stdout",
     "output_type": "stream",
     "text": [
      "Models input schema is NOT in line with the schema present in schema.py\n"
     ]
    }
   ],
   "source": [
    "model_input_schema_check()"
   ]
  },
  {
   "cell_type": "code",
   "execution_count": null,
   "id": "d291bfd1-5f50-4b70-a9e4-8a2b355924fa",
   "metadata": {},
   "outputs": [],
   "source": []
  }
 ],
 "metadata": {
  "kernelspec": {
   "display_name": "Python 3 (ipykernel)",
   "language": "python",
   "name": "python3"
  },
  "language_info": {
   "codemirror_mode": {
    "name": "ipython",
    "version": 3
   },
   "file_extension": ".py",
   "mimetype": "text/x-python",
   "name": "python",
   "nbconvert_exporter": "python",
   "pygments_lexer": "ipython3",
   "version": "3.8.12"
  }
 },
 "nbformat": 4,
 "nbformat_minor": 5
}
